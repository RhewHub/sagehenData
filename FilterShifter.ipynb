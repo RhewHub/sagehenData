{
 "cells": [
  {
   "cell_type": "code",
   "execution_count": 43,
   "metadata": {},
   "outputs": [
    {
     "name": "stdout",
     "output_type": "stream",
     "text": [
      "Populating the interactive namespace from numpy and matplotlib\n"
     ]
    }
   ],
   "source": [
    "import pandas as pd\n",
    "import matplotlib.pyplot as plt\n",
    "import numpy as np\n",
    "import time\n",
    "%pylab inline"
   ]
  },
  {
   "cell_type": "code",
   "execution_count": 44,
   "metadata": {},
   "outputs": [
    {
     "name": "stderr",
     "output_type": "stream",
     "text": [
      "//anaconda/lib/python3.6/site-packages/IPython/core/interactiveshell.py:2728: DtypeWarning: Columns (3,5,7,9,11,13,15,17,19,21,23,25,27,31,33,35,37,39,41,47,51,53,55,57,73,75,77,79,81) have mixed types. Specify dtype option on import or set low_memory=False.\n",
      "  interactivity=interactivity, compiler=compiler, result=result)\n"
     ]
    }
   ],
   "source": [
    "data = pd.read_csv('sagehen_creek_2016_clean.csv')\n"
   ]
  },
  {
   "cell_type": "code",
   "execution_count": 45,
   "metadata": {},
   "outputs": [],
   "source": [
    "noflag = data.filter(regex='^((?!_flag).)*$')\n",
    "noflag = noflag.filter(regex='^((?!RECORD).)*$')\n",
    "datalists = noflag.values.T.tolist()\n",
    "\n"
   ]
  },
  {
   "cell_type": "code",
   "execution_count": 46,
   "metadata": {},
   "outputs": [
    {
     "name": "stdout",
     "output_type": "stream",
     "text": [
      "24125\n"
     ]
    },
    {
     "data": {
      "text/plain": [
       "[<matplotlib.lines.Line2D at 0x1218bfc50>]"
      ]
     },
     "execution_count": 46,
     "metadata": {},
     "output_type": "execute_result"
    },
    {
     "data": {
      "image/png": "[encoded data removed]",
      "text/plain": [
       "<matplotlib.figure.Figure at 0x1172db978>"
      ]
     },
     "metadata": {},
     "output_type": "display_data"
    }
   ],
   "source": [
    "\n",
    "print(np.argmin(datalists[1]))\n",
    "\n",
    "datalists[1][np.argmin(datalists[1])] = 0\n",
    "\n",
    "plt.plot(np.arange(len(datalists[1])), datalists[1], 'r')"
   ]
  },
  {
   "cell_type": "code",
   "execution_count": 47,
   "metadata": {},
   "outputs": [
    {
     "name": "stdout",
     "output_type": "stream",
     "text": [
      "32.53\n",
      "10010.77\n",
      "-9999.0\n",
      "-10011.38\n",
      "[15740, 15813, 22408, 23668, 23685, 23688, 23734, 23735, 25393, 26478, 27358, 48469]\n"
     ]
    },
    {
     "data": {
      "text/plain": [
       "[<matplotlib.lines.Line2D at 0x114929518>]"
      ]
     },
     "execution_count": 47,
     "metadata": {},
     "output_type": "execute_result"
    },
    {
     "data": {
      "image/png": "[encoded data removed]",
      "text/plain": [
       "<matplotlib.figure.Figure at 0x1193daf60>"
      ]
     },
     "metadata": {},
     "output_type": "display_data"
    }
   ],
   "source": [
    "##TESTING BLOCK\n",
    "\n",
    "temp = noflag.filter(items=['Avg_Air_Temp'])\n",
    "templst = temp.values.T.tolist()[0]\n",
    "\n",
    "##templst[0][22408] = (templst[0][22407] + templst[0][22409]) / 2 \n",
    "##22408 = dropped to 0\n",
    "##22124 = dropped to -9999\n",
    "\n",
    "print(np.max(templst))\n",
    "print(np.max(np.diff(templst)))\n",
    "print(np.min(templst))\n",
    "print(np.min(np.diff(templst)))\n",
    "\n",
    "index = []\n",
    "i = 0\n",
    "for x in templst:\n",
    "    if (x == 0):\n",
    "        index.append(i)\n",
    "    i += 1\n",
    "\n",
    "print(index)\n",
    "        \n",
    "\n",
    "#templst[np.argmin(templst)] = 0\n",
    "#print(templst[np.argmin(templst)+1])\n",
    "\n",
    "\n",
    "plt.plot(np.arange(len(templst)), templst, 'r')\n",
    "\n"
   ]
  },
  {
   "cell_type": "code",
   "execution_count": 48,
   "metadata": {},
   "outputs": [],
   "source": [
    "def filter_outliers(data, minimum, maximum):\n",
    "    fil_indices = []\n",
    "    old_values = []\n",
    "    new_values = []\n",
    "    \n",
    "    lst = list(data)\n",
    "    \n",
    "    for i in range(0, len(lst)):\n",
    "        if (lst[i] < minimum or lst[i] > maximum):\n",
    "            fil_indices.append(i)\n",
    "            old_values.append(lst[i])\n",
    "            #if (i == 0):\n",
    "            #    lst[i] = lst[i+1] + (lst[i+1] - lst[i+2])\n",
    "            #elif (i == len(lst)-1):\n",
    "            #    lst[i] = lst[i-1] + (lst[i-2] - lst[i-1])\n",
    "            #else\n",
    "            j = i+1\n",
    "            while (lst[j] < minimum or lst[j] > maximum):\n",
    "                j += 1\n",
    "            lst[i] = 0.5 * (lst[i-1] + lst[j])\n",
    "            new_values.append(lst[i])\n",
    "            \n",
    "    filtered = list(zip(fil_indices, old_values, new_values))\n",
    "    \n",
    "    return lst, filtered"
   ]
  },
  {
   "cell_type": "code",
   "execution_count": 49,
   "metadata": {},
   "outputs": [],
   "source": [
    "def filter_outliers_destr(lst, minimum, maximum):\n",
    "    while (np.min(lst) < minimum):\n",
    "        error = np.argmin(lst)\n",
    "        lst[error] = 0.5*(lst[error-1] + lst[error+1])\n",
    "    while (np.max(lst) > maximum):\n",
    "        error = np.argmax(lst)\n",
    "        lst[error] = 0.5*(lst[error-1] + lst[error+1])\n",
    "    "
   ]
  },
  {
   "cell_type": "code",
   "execution_count": 50,
   "metadata": {},
   "outputs": [],
   "source": [
    "def filter_outliers_newlist(lst, minimum, maximum):\n",
    "    new_lst = list(lst)\n",
    "    \n",
    "    while (np.min(new_lst) < minimum):\n",
    "        error = np.argmin(new_lst)\n",
    "        lst[error] = 0.5*(new_lst[error-1] + new_lst[error+1])\n",
    "    while (np.max(new_lst) > maximum):\n",
    "        error = np.argmax(new_lst)\n",
    "        new_lst[error] = 0.5*(new_lst[error-1] + new_lst[error+1])\n",
    "        \n",
    "    return new_lst"
   ]
  },
  {
   "cell_type": "code",
   "execution_count": 51,
   "metadata": {},
   "outputs": [],
   "source": [
    "def filter_spikes(data, min_roc, max_roc, toggle_nan=False):\n",
    "    fil_indices = []\n",
    "    old_values = []\n",
    "    new_values = []\n",
    "    \n",
    "    lst = list(data)\n",
    "    \n",
    "    diff = np.diff(lst)\n",
    "    i = 0\n",
    "    while (i < len(diff)):\n",
    "        if (diff[i] < min_roc):\n",
    "            fil_indices.append(i+1)\n",
    "            old_values.append(lst[i+1])\n",
    "            drops = 1\n",
    "            j = i + 1\n",
    "            while (diff[j] == 0):\n",
    "                fil_indices.append(j)\n",
    "                old_values.append(lst[j])\n",
    "                drops += 1\n",
    "                j += 1\n",
    "            if (toggle_nan):\n",
    "                for k in range(i+1, j+1):\n",
    "                    lst[k] = NaN\n",
    "                    new_values.append(lst[k])\n",
    "            else:\n",
    "                slope = (0.5*(lst[j+1] - lst[i])) / drops\n",
    "                for k in range(i+1, j+1):\n",
    "                    lst[k] = lst[k-1] + slope\n",
    "                    new_values.append(lst[k])\n",
    "            i = j\n",
    "        i += 1\n",
    "    filtered = list(zip(fil_indices, old_values, new_values))\n",
    "            \n",
    "    return lst, filtered"
   ]
  },
  {
   "cell_type": "code",
   "execution_count": 54,
   "metadata": {},
   "outputs": [
    {
     "name": "stdout",
     "output_type": "stream",
     "text": [
      "[(22408, 0.0, 6.990500000000001), (25148, 3.865, 9.9), (25588, 4.687, 11.615), (26457, 9.81, 10.3775), (27178, 7.879, 13.175), (28894, 7.77, 20.994999999999997), (32604, 9.33, 13.23), (36676, 11.17, 12.31), (50823, 6.955, 15.780000000000001)]\n"
     ]
    }
   ],
   "source": [
    "#TESTING#\n",
    "\n",
    "#start = time.time()\n",
    "filter_outliers_destr(templst, -100, 100)\n",
    "#end = time.time()\n",
    "\n",
    "#start = time.time()\n",
    "outliers = filter_outliers(templst, -100, 100)\n",
    "#end = time.time()\n",
    "\n",
    "#print(end-start)\n",
    "#print(outliers)\n",
    "     \n",
    "newlst, drops = filter_spikes(templst, -3, 0)\n",
    "print(drops)"
   ]
  },
  {
   "cell_type": "code",
   "execution_count": 55,
   "metadata": {},
   "outputs": [
    {
     "data": {
      "image/png": "[encoded data removed]",
      "text/plain": [
       "<matplotlib.figure.Figure at 0x11ced5668>"
      ]
     },
     "metadata": {},
     "output_type": "display_data"
    }
   ],
   "source": [
    "plot = list([[a for a,b,c in drops], [b for a,b,c in drops]])\n",
    "\n",
    "plt.scatter([a for a,b,c in drops], [b for a,b,c in drops], c='black', marker='x', linewidth=1)\n",
    "plt.plot(templst, 'b', alpha=0.3, linewidth=0.3)\n",
    "plt.show()"
   ]
  },
  {
   "cell_type": "code",
   "execution_count": 12,
   "metadata": {},
   "outputs": [
    {
     "data": {
      "image/png": "[encoded data removed]",
      "text/plain": [
       "<matplotlib.figure.Figure at 0x118efe048>"
      ]
     },
     "metadata": {},
     "output_type": "display_data"
    }
   ],
   "source": [
    "data = templst\n",
    "\n",
    "# fixed bin size\n",
    "bins = np.arange(-100, 100, 5) # fixed bin size\n",
    "\n",
    "plt.xlim([min(data)-5, max(data)+5])\n",
    "\n",
    "plt.hist(data, bins=bins, alpha=0.5)\n",
    "plt.title('Random Gaussian data (fixed bin size)')\n",
    "plt.xlabel('variable X (bin size = 5)')\n",
    "plt.ylabel('count')\n",
    "\n",
    "plt.show()"
   ]
  },
  {
   "cell_type": "code",
   "execution_count": null,
   "metadata": {},
   "outputs": [],
   "source": []
  }
 ],
 "metadata": {
  "kernelspec": {
   "display_name": "Python 3",
   "language": "python",
   "name": "python3"
  },
  "language_info": {
   "codemirror_mode": {
    "name": "ipython",
    "version": 3
   },
   "file_extension": ".py",
   "mimetype": "text/x-python",
   "name": "python",
   "nbconvert_exporter": "python",
   "pygments_lexer": "ipython3",
   "version": "3.6.4"
  }
 },
 "nbformat": 4,
 "nbformat_minor": 2
}
